{
 "cells": [
  {
   "cell_type": "markdown",
   "metadata": {},
   "source": [
    "## COMP41680 - API Assignment\n",
    "#### Student Info: Xiaosi Tian - <br/>&nbsp;&emsp;&emsp;&emsp;&emsp;&emsp;&emsp; Jingyi&nbsp;  Hu&ensp; - 17200558"
   ]
  },
  {
   "cell_type": "code",
   "execution_count": null,
   "metadata": {},
   "outputs": [],
   "source": [
    "import os\n",
    "import urllib.request\n",
    "import json\n",
    "import csv\n",
    "import pandas as pd"
   ]
  },
  {
   "cell_type": "markdown",
   "metadata": {},
   "source": [
    "### Task 1: Identify web APIs has been chosen:"
   ]
  },
  {
   "cell_type": "markdown",
   "metadata": {},
   "source": [
    "A API, Google Books APIs, chosen for this assignment is provided by Google, which is available at: https://developers.google.com/books/ since we found out that the documentation xxxxxx(advantage)\n",
    "\n",
    "For private data, the requests need to be quthorized, but in this assignment, our application requests public data, the authorization therefore does not  every singel request we send to the Books APIs will be identified in the two following ways: 1) using an OAuth 2.0 token and 2) using the application's API key.\n"
   ]
  }
 ],
 "metadata": {
  "kernelspec": {
   "display_name": "Python 3",
   "language": "python",
   "name": "python3"
  },
  "language_info": {
   "codemirror_mode": {
    "name": "ipython",
    "version": 3
   },
   "file_extension": ".py",
   "mimetype": "text/x-python",
   "name": "python",
   "nbconvert_exporter": "python",
   "pygments_lexer": "ipython3",
   "version": "3.7.1"
  }
 },
 "nbformat": 4,
 "nbformat_minor": 2
}
